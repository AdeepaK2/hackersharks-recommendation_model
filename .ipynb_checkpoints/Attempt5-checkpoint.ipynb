{
 "cells": [
  {
   "cell_type": "code",
   "execution_count": 1,
   "id": "09094602",
   "metadata": {},
   "outputs": [],
   "source": [
    "import pandas as pd\n",
    "import numpy as np\n",
    "from sklearn.feature_extraction.text import TfidfVectorizer\n",
    "from sklearn.metrics.pairwise import cosine_similarity\n",
    "from sklearn.preprocessing import StandardScaler,LabelEncoder\n",
    "import ast\n",
    "import re\n",
    "from scipy import stats"
   ]
  },
  {
   "cell_type": "code",
   "execution_count": 2,
   "id": "1ecda62e",
   "metadata": {},
   "outputs": [
    {
     "name": "stdout",
     "output_type": "stream",
     "text": [
      "Visitors Data:\n",
      "   User ID              Name                         Email  \\\n",
      "0        1    Jennifer Quinn    jennifer.quinn@example.com   \n",
      "1        2       Emily Perry       emily.perry@example.com   \n",
      "2        3  Danielle Mcbride  danielle.mcbride@example.com   \n",
      "3        4   Angelica Wilson   angelica.wilson@example.com   \n",
      "4        5     Laurie Powers     laurie.powers@example.com   \n",
      "\n",
      "                                Preferred Activities  \\\n",
      "0  ['cycling', 'historical monuments', 'village h...   \n",
      "1  ['butterfly watching', 'hot springs', 'wildlif...   \n",
      "2  ['sea cruises', 'themed parks', 'craft worksho...   \n",
      "3              ['fishing', 'hot springs', 'sailing']   \n",
      "4     ['history tours', 'sailing', 'literary tours']   \n",
      "\n",
      "                  Bucket list destinations Sri Lanka  \n",
      "0  ['Polonnaruwa', 'Hatton', 'Anuradhapura', 'Ell...  \n",
      "1  ['Madunagala Hot Water Spring', 'Wilpattu Nati...  \n",
      "2  ['Mirissa Beach', 'Negombo Lagoon', 'Batadomba...  \n",
      "3  ['Maha Oya Hot Water Springs', 'Colombo Port C...  \n",
      "4  ['Negombo Lagoon', 'Colombo Port City', 'Galle...  \n",
      "\n",
      "Places Data:\n",
      "                             name       lat        lng  \\\n",
      "0                Arugam Bay Beach  6.840408  81.836848   \n",
      "1                   Mirissa Beach  5.944703  80.459161   \n",
      "2  Weligama Beach (surf and stay)  5.972486  80.435714   \n",
      "3                        Ahangama  5.973975  80.362159   \n",
      "4                 Hikkaduwa Beach  6.137727  80.099060   \n",
      "\n",
      "             formatted_address  rating  user_ratings_total  \\\n",
      "0  Arugam Bay Beach, Sri Lanka     4.8              1591.0   \n",
      "1           Mirissa, Sri Lanka     4.6              1748.0   \n",
      "2          Weligama, Sri Lanka     4.4               325.0   \n",
      "3          Ahangama, Sri Lanka     NaN                 NaN   \n",
      "4   Hikkaduwa Beach, Sri Lanka     4.7              1438.0   \n",
      "\n",
      "                                      latest_reviews  \n",
      "0  ['Arugam Bay Beach is a surfer's paradise! I s...  \n",
      "1  ['Mirissa Beach is truly a gem on Sri LankaÃ¢Â...  \n",
      "2  ['Weligama Beach is a fantastic spot for both ...  \n",
      "3  ['Ahangama was a bit disappointing for me as a...  \n",
      "4  ['Hikkaduwa Beach is a delightful escape for s...  \n"
     ]
    }
   ],
   "source": [
    "try:\n",
    "    # Load files\n",
    "    visitors_df = pd.read_excel('Visitors Preference Dataset.xlsx')\n",
    "    places_df = pd.read_excel('Places Dataset.xlsx')\n",
    "\n",
    "\n",
    "    # Print the first few rows of each dataset\n",
    "    print(\"Visitors Data:\")\n",
    "    print(visitors_df.head())\n",
    "\n",
    "    print(\"\\nPlaces Data:\")\n",
    "    print(places_df.head())\n",
    "\n",
    "except FileNotFoundError as e:\n",
    "    print(f\"Error: {e}\")\n",
    "    print(\"Please check if the file paths are correct.\")\n",
    "except Exception as e:\n",
    "    print(f\"An error occurred: {e}\")\n"
   ]
  },
  {
   "cell_type": "code",
   "execution_count": 4,
   "id": "21c04626",
   "metadata": {},
   "outputs": [
    {
     "name": "stdout",
     "output_type": "stream",
     "text": [
      "User ID                               0\n",
      "Name                                  0\n",
      "Email                                 0\n",
      "Preferred Activities                  0\n",
      "Bucket list destinations Sri Lanka    0\n",
      "dtype: int64\n",
      "name                   0\n",
      "lat                    1\n",
      "lng                    1\n",
      "formatted_address      0\n",
      "rating                56\n",
      "user_ratings_total    56\n",
      "latest_reviews         0\n",
      "dtype: int64\n"
     ]
    }
   ],
   "source": [
    "# Print the count of null values in each column for both DataFrames\n",
    "print(visitors_df.isnull().sum())\n",
    "print(places_df.isnull().sum())\n"
   ]
  },
  {
   "cell_type": "code",
   "execution_count": 7,
   "id": "273b1863",
   "metadata": {},
   "outputs": [
    {
     "name": "stdout",
     "output_type": "stream",
     "text": [
      "\n",
      "Missing values :\n",
      "User ID                               0\n",
      "Name                                  0\n",
      "Email                                 0\n",
      "Preferred Activities                  0\n",
      "Bucket list destinations Sri Lanka    0\n",
      "dtype: int64\n"
     ]
    }
   ],
   "source": [
    "# Count the number of missing values in each column of the visitors DataFrame\n",
    "visitors_missing_values = visitors_df.isnull().sum()\n",
    "# Display the missing values count\n",
    "print(\"\\nMissing values :\")\n",
    "print(visitors_missing_values)\n"
   ]
  },
  {
   "cell_type": "code",
   "execution_count": 3,
   "id": "fe36e534",
   "metadata": {},
   "outputs": [],
   "source": [
    "import ast\n",
    "\n",
    "# Define a function to handle safe conversion\n",
    "def safe_literal_eval(val):\n",
    "    try:\n",
    "        # Only attempt to evaluate if it's a string\n",
    "        if isinstance(val, str):\n",
    "            return ast.literal_eval(val)\n",
    "        else:\n",
    "            return val\n",
    "    except (ValueError, SyntaxError):\n",
    "        return val\n",
    "\n",
    "# Apply the function to the columns\n",
    "visitors_df['Preferred Activities'] = visitors_df['Preferred Activities'].apply(safe_literal_eval)\n",
    "visitors_df['Bucket list destinations Sri Lanka'] = visitors_df['Bucket list destinations Sri Lanka'].apply(safe_literal_eval)\n"
   ]
  },
  {
   "cell_type": "code",
   "execution_count": null,
   "id": "0a31cd14",
   "metadata": {},
   "outputs": [],
   "source": []
  }
 ],
 "metadata": {
  "kernelspec": {
   "display_name": "Python 3 (ipykernel)",
   "language": "python",
   "name": "python3"
  },
  "language_info": {
   "codemirror_mode": {
    "name": "ipython",
    "version": 3
   },
   "file_extension": ".py",
   "mimetype": "text/x-python",
   "name": "python",
   "nbconvert_exporter": "python",
   "pygments_lexer": "ipython3",
   "version": "3.11.5"
  }
 },
 "nbformat": 4,
 "nbformat_minor": 5
}
