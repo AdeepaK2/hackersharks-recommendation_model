{
 "cells": [
  {
   "cell_type": "code",
   "execution_count": 13,
   "id": "8e9a4591-45f8-4571-a1b9-4ad9d9071ae3",
   "metadata": {},
   "outputs": [],
   "source": [
    "#imports\n",
    "import pandas as pd\n",
    "import numpy as np\n",
    "from sklearn.feature_extraction.text import TfidfVectorizer\n",
    "from sklearn.metrics.pairwise import cosine_similarity\n",
    "from sklearn.preprocessing import StandardScaler, LabelEncoder\n",
    "import ast\n",
    "import re\n",
    "from scipy import stats"
   ]
  },
  {
   "cell_type": "code",
   "execution_count": 14,
   "id": "1f67385d-8603-4758-bb7c-f78782f13ca8",
   "metadata": {},
   "outputs": [
    {
     "name": "stdout",
     "output_type": "stream",
     "text": [
      "   User ID              Name                         Email  \\\n",
      "0        1    Jennifer Quinn    jennifer.quinn@example.com   \n",
      "1        2       Emily Perry       emily.perry@example.com   \n",
      "2        3  Danielle Mcbride  danielle.mcbride@example.com   \n",
      "3        4   Angelica Wilson   angelica.wilson@example.com   \n",
      "4        5     Laurie Powers     laurie.powers@example.com   \n",
      "\n",
      "                                Preferred Activities  \\\n",
      "0  ['cycling', 'historical monuments', 'village h...   \n",
      "1  ['butterfly watching', 'hot springs', 'wildlif...   \n",
      "2  ['sea cruises', 'themed parks', 'craft worksho...   \n",
      "3              ['fishing', 'hot springs', 'sailing']   \n",
      "4     ['history tours', 'sailing', 'literary tours']   \n",
      "\n",
      "                  Bucket list destinations Sri Lanka  \n",
      "0  ['Polonnaruwa', 'Hatton', 'Anuradhapura', 'Ell...  \n",
      "1  ['Madunagala Hot Water Spring', 'Wilpattu Nati...  \n",
      "2  ['Mirissa Beach', 'Negombo Lagoon', 'Batadomba...  \n",
      "3  ['Maha Oya Hot Water Springs', 'Colombo Port C...  \n",
      "4  ['Negombo Lagoon', 'Colombo Port City', 'Galle...  \n",
      "                             name       lat        lng  \\\n",
      "0                Arugam Bay Beach  6.840408  81.836848   \n",
      "1                   Mirissa Beach  5.944703  80.459161   \n",
      "2  Weligama Beach (surf and stay)  5.972486  80.435714   \n",
      "3                        Ahangama  5.973975  80.362159   \n",
      "4                 Hikkaduwa Beach  6.137727  80.099060   \n",
      "\n",
      "             formatted_address  rating  user_ratings_total  \\\n",
      "0  Arugam Bay Beach, Sri Lanka     4.8              1591.0   \n",
      "1           Mirissa, Sri Lanka     4.6              1748.0   \n",
      "2          Weligama, Sri Lanka     4.4               325.0   \n",
      "3          Ahangama, Sri Lanka     NaN                 NaN   \n",
      "4   Hikkaduwa Beach, Sri Lanka     4.7              1438.0   \n",
      "\n",
      "                                      latest_reviews  \n",
      "0  ['Arugam Bay Beach is a surfer's paradise! I s...  \n",
      "1  ['Mirissa Beach is truly a gem on Sri LankaÃ¢Â...  \n",
      "2  ['Weligama Beach is a fantastic spot for both ...  \n",
      "3  ['Ahangama was a bit disappointing for me as a...  \n",
      "4  ['Hikkaduwa Beach is a delightful escape for s...  \n"
     ]
    }
   ],
   "source": [
    "#file input\n",
    "visitors_df = pd.read_excel('Visitors Preference Dataset.xlsx')\n",
    "places_df = pd.read_excel('Places Dataset.xlsx')\n",
    "\n",
    "# Check the first few rows of the data\n",
    "print(visitors_df.head())\n",
    "print(places_df.head())"
   ]
  },
  {
   "cell_type": "code",
   "execution_count": 15,
   "id": "64d57a88-6273-4f50-bd4a-93b77db2f72b",
   "metadata": {},
   "outputs": [],
   "source": [
    "# Pre-processing Steps\n",
    "# 1. Handle missing values\n",
    "# 2. Data normalization (if applicable)\n",
    "#pre-processing"
   ]
  },
  {
   "cell_type": "code",
   "execution_count": 16,
   "id": "94d6a7e5-3e29-4915-95c3-441f8e355926",
   "metadata": {},
   "outputs": [
    {
     "name": "stdout",
     "output_type": "stream",
     "text": [
      "User ID                               0\n",
      "Name                                  0\n",
      "Email                                 0\n",
      "Preferred Activities                  0\n",
      "Bucket list destinations Sri Lanka    0\n",
      "dtype: int64\n",
      "name                   0\n",
      "lat                    1\n",
      "lng                    1\n",
      "formatted_address      0\n",
      "rating                56\n",
      "user_ratings_total    56\n",
      "latest_reviews         0\n",
      "dtype: int64\n"
     ]
    },
    {
     "data": {
      "text/plain": [
       "name                  0\n",
       "lat                   0\n",
       "lng                   0\n",
       "formatted_address     0\n",
       "rating                0\n",
       "user_ratings_total    0\n",
       "latest_reviews        0\n",
       "dtype: int64"
      ]
     },
     "execution_count": 16,
     "metadata": {},
     "output_type": "execute_result"
    }
   ],
   "source": [
    "# Check for missing values in both datasets\n",
    "print(visitors_df.isnull().sum())\n",
    "print(places_df.isnull().sum())\n",
    "\n",
    "# Filling missing values for 'lat' and 'lng' with 0,\n",
    "# and using mean values for 'rating' and 'user_ratings_total'\n",
    "places_df['lat'].fillna(0, inplace=True)\n",
    "places_df['lng'].fillna(0, inplace=True)\n",
    "places_df['rating'].fillna(places_df['rating'].mean(), inplace=True)\n",
    "places_df['user_ratings_total'].fillna(places_df['user_ratings_total'].mean(), inplace=True)\n",
    "\n",
    "# Verify there are no more missing values\n",
    "places_df.isnull().sum()\n"
   ]
  },
  {
   "cell_type": "code",
   "execution_count": 17,
   "id": "bbc0b811-2d68-41b5-9e5b-f76c6ac0cb99",
   "metadata": {},
   "outputs": [
    {
     "name": "stdout",
     "output_type": "stream",
     "text": [
      "\n",
      "Missing values in Visitors Preference Dataset:\n",
      "User ID                               0\n",
      "Name                                  0\n",
      "Email                                 0\n",
      "Preferred Activities                  0\n",
      "Bucket list destinations Sri Lanka    0\n",
      "dtype: int64\n"
     ]
    },
    {
     "data": {
      "text/plain": [
       "name                  0\n",
       "lat                   0\n",
       "lng                   0\n",
       "formatted_address     0\n",
       "rating                0\n",
       "user_ratings_total    0\n",
       "latest_reviews        0\n",
       "dtype: int64"
      ]
     },
     "execution_count": 17,
     "metadata": {},
     "output_type": "execute_result"
    }
   ],
   "source": [
    "# Check for missing values in the Visitors Preference Dataset\n",
    "visitors_missing_values = visitors_df.isnull().sum()\n",
    "print(\"\\nMissing values in Visitors Preference Dataset:\")\n",
    "print(visitors_missing_values)\n",
    "\n",
    "# Filling missing values for 'lat' and 'lng' with 0,\n",
    "# and using mean values for 'rating' and 'user_ratings_total'\n",
    "places_df['lat'].fillna(0, inplace=True)\n",
    "places_df['lng'].fillna(0, inplace=True)\n",
    "places_df['rating'].fillna(places_df['rating'].mean(), inplace=True)\n",
    "places_df['user_ratings_total'].fillna(places_df['user_ratings_total'].mean(), inplace=True)\n",
    "\n",
    "# Verify there are no more missing values\n",
    "places_df.isnull().sum()\n"
   ]
  },
  {
   "cell_type": "code",
   "execution_count": 18,
   "id": "47e4b3ff-6b6d-4a29-9cc2-ff196aea4de0",
   "metadata": {},
   "outputs": [],
   "source": [
    "#  Convert stringified lists to actual lists in the 'Preferred Activities' \n",
    "# and 'Bucket list destinations Sri Lanka' columns\n",
    "visitors_df['Preferred Activities'] = visitors_df['Preferred Activities'].apply(ast.literal_eval)\n",
    "visitors_df['Bucket list destinations Sri Lanka'] = visitors_df['Bucket list destinations Sri Lanka'].apply(ast.literal_eval)"
   ]
  },
  {
   "cell_type": "code",
   "execution_count": 19,
   "id": "455c1136-790a-49aa-b780-20d4894fe227",
   "metadata": {},
   "outputs": [],
   "source": [
    "# Fill missing values in the 'rating' and 'user_ratings_total' columns in the Places Dataset\n",
    "places_df['rating'].fillna(places_df['rating'].mean(), inplace=True)\n",
    "places_df['user_ratings_total'].fillna(places_df['user_ratings_total'].mean(), inplace=True)"
   ]
  },
  {
   "cell_type": "code",
   "execution_count": 20,
   "id": "4e4ba48f-0399-4bfb-8bf9-4be2eaa720c1",
   "metadata": {},
   "outputs": [],
   "source": [
    "#  Correct formatting issues in the 'latest_reviews' column\n",
    "places_df['latest_reviews'] = places_df['latest_reviews'].str.replace('Ã¢Â', '')"
   ]
  },
  {
   "cell_type": "code",
   "execution_count": 21,
   "id": "5faaaa45-3838-4c5c-91d6-5942824e0fdf",
   "metadata": {},
   "outputs": [
    {
     "name": "stdout",
     "output_type": "stream",
     "text": [
      "                             name       lat        lng  \\\n",
      "0                Arugam Bay Beach  6.840408  81.836848   \n",
      "1                   Mirissa Beach  5.944703  80.459161   \n",
      "2  Weligama Beach (surf and stay)  5.972486  80.435714   \n",
      "3                        Ahangama  5.973975  80.362159   \n",
      "4                 Hikkaduwa Beach  6.137727  80.099060   \n",
      "\n",
      "             formatted_address    rating  user_ratings_total  \\\n",
      "0  Arugam Bay Beach, Sri Lanka  4.800000         1591.000000   \n",
      "1           Mirissa, Sri Lanka  4.600000         1748.000000   \n",
      "2          Weligama, Sri Lanka  4.400000          325.000000   \n",
      "3          Ahangama, Sri Lanka  4.459437         1608.639437   \n",
      "4   Hikkaduwa Beach, Sri Lanka  4.700000         1438.000000   \n",
      "\n",
      "                                      latest_reviews  \n",
      "0  ['Arugam Bay Beach is a surfer's paradise! I s...  \n",
      "1  ['Mirissa Beach is truly a gem on Sri Lankas s...  \n",
      "2  ['Weligama Beach is a fantastic spot for both ...  \n",
      "3  ['Ahangama was a bit disappointing for me as a...  \n",
      "4  ['Hikkaduwa Beach is a delightful escape for s...  \n"
     ]
    }
   ],
   "source": [
    "def clean_text(text):\n",
    "    # Remove non-ASCII characters\n",
    "    text = re.sub(r'[^\\x00-\\x7F]+', '', text)\n",
    "    # Remove unwanted encoded characters (e.g., xa0, _x008f_)\n",
    "    text = re.sub(r'\\\\xa0|\\\\u[0-9A-Fa-f]+|\\\\x[0-9A-Fa-f]+|_x[0-9A-Fa-f]+_', '', text)\n",
    "    # Replace multiple spaces with a single space\n",
    "    text = re.sub(r'\\s+', ' ', text).strip()\n",
    "    return text\n",
    "\n",
    "# Apply cleaning to relevant columns in places_df\n",
    "places_df['name'] = places_df['name'].apply(clean_text)\n",
    "places_df['latest_reviews'] = places_df['latest_reviews'].apply(clean_text)\n",
    "\n",
    "# Check the cleaned data\n",
    "print(places_df.head())\n",
    "\n"
   ]
  },
  {
   "cell_type": "code",
   "execution_count": 22,
   "id": "2d83c5af-4061-4705-9a8e-c25e65bcb658",
   "metadata": {
    "scrolled": true
   },
   "outputs": [
    {
     "name": "stdout",
     "output_type": "stream",
     "text": [
      "\n",
      "Missing values in Places Dataset:\n",
      "name                  0\n",
      "lat                   0\n",
      "lng                   0\n",
      "formatted_address     0\n",
      "rating                0\n",
      "user_ratings_total    0\n",
      "latest_reviews        0\n",
      "dtype: int64\n"
     ]
    },
    {
     "data": {
      "text/plain": [
       "name                  0\n",
       "lat                   0\n",
       "lng                   0\n",
       "formatted_address     0\n",
       "rating                0\n",
       "user_ratings_total    0\n",
       "latest_reviews        0\n",
       "dtype: int64"
      ]
     },
     "execution_count": 22,
     "metadata": {},
     "output_type": "execute_result"
    }
   ],
   "source": [
    "# Check for missing values in the Places Dataset\n",
    "places_missing_values = places_df.isnull().sum()\n",
    "print(\"\\nMissing values in Places Dataset:\")\n",
    "print(places_missing_values)\n",
    "\n",
    "# Filling missing values for 'lat' and 'lng' with 0,\n",
    "# and using mean values for 'rating' and 'user_ratings_total'\n",
    "places_df['lat'].fillna(0, inplace=True)\n",
    "places_df['lng'].fillna(0, inplace=True)\n",
    "places_df['rating'].fillna(places_df['rating'].mean(), inplace=True)\n",
    "places_df['user_ratings_total'].fillna(places_df['user_ratings_total'].mean(), inplace=True)\n",
    "\n",
    "# Verify there are no more missing values\n",
    "places_df.isnull().sum()\n"
   ]
  },
  {
   "cell_type": "code",
   "execution_count": 23,
   "id": "9d48ad3c-6add-489e-af26-41613bb5ffa0",
   "metadata": {},
   "outputs": [],
   "source": [
    "# Remove duplicates in Visitors Preference Dataset\n",
    "visitors_df.drop_duplicates(subset=['User ID', 'Email'], inplace=True)\n",
    "\n",
    "# Remove duplicates in Places Dataset\n",
    "places_df.drop_duplicates(subset=['name', 'formatted_address'], inplace=True)"
   ]
  },
  {
   "cell_type": "code",
   "execution_count": 24,
   "id": "34817a35-4924-4d21-8f28-d846cb0a12d4",
   "metadata": {},
   "outputs": [],
   "source": [
    "# Normalize text columns in Visitors Preference Dataset\n",
    "visitors_df['Name'] = visitors_df['Name'].str.lower()\n",
    "visitors_df['Preferred Activities'] = visitors_df['Preferred Activities'].apply(lambda x: [activity.lower() for activity in x])\n",
    "visitors_df['Bucket list destinations Sri Lanka'] = visitors_df['Bucket list destinations Sri Lanka'].apply(lambda x: [destination.lower() for destination in x])\n",
    "\n",
    "# Normalize text columns in Places Dataset\n",
    "places_df['name'] = places_df['name'].str.lower()\n",
    "places_df['formatted_address'] = places_df['formatted_address'].str.lower()\n",
    "places_df['latest_reviews'] = places_df['latest_reviews'].str.lower()\n"
   ]
  },
  {
   "cell_type": "code",
   "execution_count": 25,
   "id": "4419f220-29bc-4f5d-9faa-b8f466d9a0ca",
   "metadata": {},
   "outputs": [],
   "source": [
    "# Check for outliers in Places Dataset\n",
    "places_df[['rating', 'user_ratings_total']].describe()\n",
    "\n",
    "# Optionally, remove outliers in user_ratings_total (e.g., values above the 99th percentile)\n",
    "threshold = places_df['user_ratings_total'].quantile(0.99)\n",
    "places_df = places_df[places_df['user_ratings_total'] <= threshold]\n"
   ]
  },
  {
   "cell_type": "code",
   "execution_count": 26,
   "id": "533867a3-6628-46a4-84d2-04d77f6ca982",
   "metadata": {},
   "outputs": [],
   "source": [
    "# Tokenize Preferred Activities into separate columns\n",
    "preferred_activities_df = pd.DataFrame(visitors_df['Preferred Activities'].tolist(), index=visitors_df['User ID'])\n",
    "\n",
    "# Tokenize Bucket List Destinations into separate columns\n",
    "bucket_list_df = pd.DataFrame(visitors_df['Bucket list destinations Sri Lanka'].tolist(), index=visitors_df['User ID'])\n"
   ]
  },
  {
   "cell_type": "code",
   "execution_count": 27,
   "id": "e44e0708-42f0-4881-b318-5351371ce152",
   "metadata": {},
   "outputs": [],
   "source": [
    "# Binning ratings into categories\n",
    "places_df['rating_category'] = pd.cut(places_df['rating'], bins=[0, 3.5, 4.5, 5], labels=['low', 'medium', 'high'])"
   ]
  },
  {
   "cell_type": "code",
   "execution_count": 28,
   "id": "aba2809f-6723-4cc4-96c4-3e58d269f4c2",
   "metadata": {},
   "outputs": [],
   "source": [
    "# Remove very short reviews\n",
    "places_df = places_df[places_df['latest_reviews'].str.len() > 10]"
   ]
  },
  {
   "cell_type": "code",
   "execution_count": 29,
   "id": "abf0c2db-9f2b-46d0-8672-e9309ffbe930",
   "metadata": {},
   "outputs": [],
   "source": [
    "# Use one-hot encoding for the rating categories\n",
    "places_df = pd.get_dummies(places_df, columns=['rating_category'], drop_first=True)"
   ]
  },
  {
   "cell_type": "code",
   "execution_count": 30,
   "id": "12ad2af0-28ad-4f0d-9243-e55cf9737b78",
   "metadata": {},
   "outputs": [],
   "source": [
    "def place_recommendation(user_id, visitors_df, places_df):\n",
    "    # Retrieve user's preferred activities\n",
    "    user_preferences = visitors_df.loc[visitors_df['User ID'] == user_id, 'Preferred Activities']\n",
    "    if user_preferences.empty:\n",
    "        return \"User not found\"\n",
    "    \n",
    "    # Directly use the preferred activities list\n",
    "    user_activities = user_preferences.values[0]\n",
    "    \n",
    "    # Collect place recommendations based on activity keywords in both names and descriptions\n",
    "    recommendations = []\n",
    "    for activity in user_activities:\n",
    "        escaped_activity = re.escape(activity.lower())\n",
    "        for index, row in places_df.iterrows():\n",
    "            place_name = row['name'].lower()\n",
    "            place_description = row.get('latest_reviews', '').lower()\n",
    "            if re.search(escaped_activity, place_name) or re.search(escaped_activity, place_description):\n",
    "                recommendations.append(row['name'])\n",
    "    \n",
    "    return recommendations if recommendations else \"No recommendations found\""
   ]
  },
  {
   "cell_type": "code",
   "execution_count": 31,
   "id": "9610641b-c36d-410d-867a-bece22ebe3b0",
   "metadata": {},
   "outputs": [],
   "source": [
    "#testing"
   ]
  },
  {
   "cell_type": "code",
   "execution_count": 32,
   "id": "f2ab568d",
   "metadata": {},
   "outputs": [
    {
     "name": "stdout",
     "output_type": "stream",
     "text": [
      "Recommendations for user 1: ['viharamahadevi park', 'anuradhapura', 'polonnaruwa']\n",
      "Recommendations for non-existent user: ['sinharaja forest reserve', 'belihuloya', 'batadombalena', 'seetha eliya', 'kanneliya national rain forest reserve |', 'knuckles forest reserve', 'piduruthalagala conservation forest', 'dhushan ella', 'hali-ela , sri lanka', 'neluwa doovili ella', 'pareiyan ella falls |', 'riverston', 'viharamahadevi park', 'kandy', 'polonnaruwa']\n",
      "Recommendations for user with no matching activities: ['maritime museum', 'kalpitiya', 'negombo', 'trincomalee', 'bolgoda lake', 'kalpitiya lagoon', 'ambalangoda', 'jaffna lagoon area', 'panakala lagoon', 'chundikulam bird sanctuary', 'batticaloa lagoon', 'mandathivu beach', 'kiranchi beach', '| | okanda beach', 'mahakarambewa wewa', 'katukeliyawa wewa', 'kadawatha wewa', 'maha oya hot water springs', 'madunagala hot water spring', 'uppuveli', 'port city colombo', 'negombo', 'trincomalee', 'elephant point beach', 'uppuveli beach']\n"
     ]
    }
   ],
   "source": [
    "# Test case for place_recommendation\n",
    "def test_place_recommendation():\n",
    "    # Test with an existing user\n",
    "    result_existing_user = place_recommendation(1, visitors_df, places_df)\n",
    "    print(f\"Recommendations for user 1: {result_existing_user}\")\n",
    "    \n",
    "    # Test with a non-existent user\n",
    "    result_non_existent_user = place_recommendation(999, visitors_df, places_df)\n",
    "    print(f\"Recommendations for non-existent user: {result_non_existent_user}\")\n",
    "    \n",
    "    # Test with a user having no matching activities\n",
    "    # (Let's assume user with ID 4 has preferences not matching any place)\n",
    "    result_no_match = place_recommendation(4, visitors_df, places_df)\n",
    "    print(f\"Recommendations for user with no matching activities: {result_no_match}\")\n",
    "\n",
    "# Run the test cases\n",
    "test_place_recommendation()\n"
   ]
  },
  {
   "cell_type": "code",
   "execution_count": null,
   "id": "d46eec5d-8eb7-4303-9178-cf3274d84dc9",
   "metadata": {},
   "outputs": [],
   "source": []
  }
 ],
 "metadata": {
  "kernelspec": {
   "display_name": "Python 3 (ipykernel)",
   "language": "python",
   "name": "python3"
  },
  "language_info": {
   "codemirror_mode": {
    "name": "ipython",
    "version": 3
   },
   "file_extension": ".py",
   "mimetype": "text/x-python",
   "name": "python",
   "nbconvert_exporter": "python",
   "pygments_lexer": "ipython3",
   "version": "3.11.7"
  }
 },
 "nbformat": 4,
 "nbformat_minor": 5
}
