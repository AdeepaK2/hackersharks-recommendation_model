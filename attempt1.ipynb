{
 "cells": [
  {
   "cell_type": "code",

   "metadata": {},
   "outputs": [],
   "source": [
    "#imports\n",
    "import pandas as pd\n",
    "import numpy as np\n",
    "from sklearn.feature_extraction.text import TfidfVectorizer\n",
    "from sklearn.metrics.pairwise import cosine_similarity\n",
    "from sklearn.preprocessing import StandardScaler, LabelEncoder\n",
    "import ast\n",
    "import re\n",
    "from scipy import stats"
   ]
  },
  {
   "cell_type": "code",
   "metadata": {},
   "outputs": [
    {
     "name": "stdout",
     "output_type": "stream",
     "text": [
      "   User ID              Name                         Email  \\\n",
      "0        1    Jennifer Quinn    jennifer.quinn@example.com   \n",
      "1        2       Emily Perry       emily.perry@example.com   \n",
      "2        3  Danielle Mcbride  danielle.mcbride@example.com   \n",
      "3        4   Angelica Wilson   angelica.wilson@example.com   \n",
      "4        5     Laurie Powers     laurie.powers@example.com   \n",
      "\n",
      "                                Preferred Activities  \\\n",
      "0  ['cycling', 'historical monuments', 'village h...   \n",
      "1  ['butterfly watching', 'hot springs', 'wildlif...   \n",
      "2  ['sea cruises', 'themed parks', 'craft worksho...   \n",
      "3              ['fishing', 'hot springs', 'sailing']   \n",
      "4     ['history tours', 'sailing', 'literary tours']   \n",
      "\n",
      "                  Bucket list destinations Sri Lanka  \n",
      "0  ['Polonnaruwa', 'Hatton', 'Anuradhapura', 'Ell...  \n",
      "1  ['Madunagala Hot Water Spring', 'Wilpattu Nati...  \n",
      "2  ['Mirissa Beach', 'Negombo Lagoon', 'Batadomba...  \n",
      "3  ['Maha Oya Hot Water Springs', 'Colombo Port C...  \n",
      "4  ['Negombo Lagoon', 'Colombo Port City', 'Galle...  \n",
      "                             name       lat        lng  \\\n",
      "0                Arugam Bay Beach  6.840408  81.836848   \n",
      "1                   Mirissa Beach  5.944703  80.459161   \n",
      "2  Weligama Beach (surf and stay)  5.972486  80.435714   \n",
      "3                        Ahangama  5.973975  80.362159   \n",
      "4                 Hikkaduwa Beach  6.137727  80.099060   \n",
      "\n",
      "             formatted_address  rating  user_ratings_total  \\\n",
      "0  Arugam Bay Beach, Sri Lanka     4.8              1591.0   \n",
      "1           Mirissa, Sri Lanka     4.6              1748.0   \n",
      "2          Weligama, Sri Lanka     4.4               325.0   \n",
      "3          Ahangama, Sri Lanka     NaN                 NaN   \n",
      "4   Hikkaduwa Beach, Sri Lanka     4.7              1438.0   \n",
      "\n",
      "                                      latest_reviews  \n",
      "0  ['Arugam Bay Beach is a surfer's paradise! I s...  \n",
      "1  ['Mirissa Beach is truly a gem on Sri LankaÃ¢Â...  \n",
      "2  ['Weligama Beach is a fantastic spot for both ...  \n",
      "3  ['Ahangama was a bit disappointing for me as a...  \n",
      "4  ['Hikkaduwa Beach is a delightful escape for s...  \n"
     ]
    }
   ],
   "source": [
    "#file input\n",
    "visitors_df = pd.read_excel('Visitors Preference Dataset.xlsx')\n",
    "places_df = pd.read_excel('Places Dataset.xlsx')\n",
    "\n",
    "# Check the first few rows of the data\n",
    "print(visitors_df.head())\n",
    "print(places_df.head())"
   ]
  },
  {
   "cell_type": "code",
   "execution_count": 23,
   "id": "64d57a88-6273-4f50-bd4a-93b77db2f72b",
   "metadata": {},
   "outputs": [],
   "source": [
    "# Pre-processing Steps\n",
    "# 1. Handle missing values\n",
    "# 2. Data normalization (if applicable)\n",
    "#pre-processing"
   ]
  },
  {
   "cell_type": "code",

   "metadata": {},
   "outputs": [
    {
     "name": "stdout",
     "output_type": "stream",
     "text": [
      "Name                                  0\n",
      "Email                                 0\n",
      "Preferred Activities                  0\n",
      "Bucket list destinations Sri Lanka    0\n",
      "dtype: int64\n",

      "lat                    1\n",
      "lng                    1\n",
      "formatted_address      0\n",
      "rating                56\n",
      "user_ratings_total    56\n",
      "latest_reviews         0\n",
      "dtype: int64\n"
     ]

   ]
  },
  {
   "cell_type": "code",
   "execution_count": 25,
   "id": "bbc0b811-2d68-41b5-9e5b-f76c6ac0cb99",
   "metadata": {},
   "outputs": [
    {
     "name": "stdout",
     "output_type": "stream",
     "text": [
      "\n",
      "Missing values in Visitors Preference Dataset:\n",
      "User ID                               0\n",
      "Name                                  0\n",
      "Email                                 0\n",
      "Preferred Activities                  0\n",
      "Bucket list destinations Sri Lanka    0\n",
      "dtype: int64\n"
     ]
    },
    {
     "data": {
      "text/plain": [
       "name                  0\n",
       "lat                   0\n",
       "lng                   0\n",
       "formatted_address     0\n",
       "rating                0\n",
       "user_ratings_total    0\n",
       "latest_reviews        0\n",
       "dtype: int64"
      ]
     },
     "execution_count": 25,
     "metadata": {},
     "output_type": "execute_result"
    }
   ],
   "source": [

   ]
  },
  {
   "cell_type": "code",

   "metadata": {},
   "outputs": [
    {
     "name": "stdout",
     "output_type": "stream",
     "text": [
      "Missing values after handling:\n",
      " name                   0\n",
      "lat                    1\n",
      "lng                    1\n",
      "formatted_address      0\n",
      "rating                 0\n",
      "user_ratings_total    56\n",
      "latest_reviews         0\n",
      "dtype: int64\n"
     ]
    }
   ],
   "source": [

   ]
  },
  {
   "cell_type": "code",

   ]
  },
  {
   "cell_type": "code",

   ]
  },
  {
   "cell_type": "code",

   "metadata": {},
   "outputs": [
    {
     "name": "stdout",
     "output_type": "stream",
     "text": [
      "                             name       lat        lng  \\\n",
      "0                arugam bay beach  6.840408  81.836848   \n",
      "1                   mirissa beach  5.944703  80.459161   \n",
      "2  weligama beach (surf and stay)  5.972486  80.435714   \n",
      "3                        ahangama  5.973975  80.362159   \n",
      "4                 hikkaduwa beach  6.137727  80.099060   \n",
      "\n",
      "             formatted_address    rating  user_ratings_total  \\\n",
      "0  arugam bay beach, sri lanka  4.800000         1591.000000   \n",
      "1           mirissa, sri lanka  4.600000         1748.000000   \n",
      "2          weligama, sri lanka  4.400000          325.000000   \n",
      "3          ahangama, sri lanka  4.459437         1608.639437   \n",
      "4   hikkaduwa beach, sri lanka  4.700000         1438.000000   \n",
      "\n",
      "                                      latest_reviews  rating_category_medium  \\\n",
      "0  ['arugam bay beach is a surfer's paradise! i s...                   False   \n",
      "1  ['mirissa beach is truly a gem on sri lanka s ...                   False   \n",
      "2  ['weligama beach is a fantastic spot for both ...                    True   \n",
      "3  ['ahangama was a bit disappointing for me as a...                    True   \n",
      "4  ['hikkaduwa beach is a delightful escape for s...                   False   \n",
      "\n",
      "   rating_category_high  \n",
      "0                  True  \n",
      "1                  True  \n",
      "2                 False  \n",
      "3                 False  \n",
      "4                  True  \n",
      "Recommendations for user 1: ['viharamahadevi park', 'anuradhapura', 'polonnaruwa']\n",
      "Recommendations for non-existent user: ['sinharaja forest reserve', 'belihuloya', 'batadombalena', 'seetha eliya', 'kanneliya national rain forest reserve |', 'knuckles forest reserve', 'piduruthalagala conservation forest', 'dhushan ella', 'hali-ela , sri lanka', 'neluwa doovili ella', 'pareiyan ella falls |', 'riverston', 'viharamahadevi park', 'kandy', 'polonnaruwa']\n",
      "Recommendations for user with no matching activities: ['maritime museum', 'kalpitiya', 'negombo', 'trincomalee', 'bolgoda lake', 'kalpitiya lagoon', 'ambalangoda', 'jaffna lagoon area', 'panakala lagoon', 'chundikulam bird sanctuary', 'batticaloa lagoon', 'mandathivu beach', 'kiranchi beach', '| | okanda beach', 'mahakarambewa wewa', 'katukeliyawa wewa', 'kadawatha wewa', 'maha oya hot water springs', 'madunagala hot water spring', 'uppuveli', 'port city colombo', 'negombo', 'trincomalee', 'elephant point beach', 'uppuveli beach']\n"
     ]
    }
   ],
   "source": [

   ]
  },
  {
   "cell_type": "code",

   ]
  },
  {
   "cell_type": "code",
   ]
  },
  {
   "cell_type": "code",
   ]
  },
  {
   "cell_type": "code",

   "metadata": {},
   "outputs": [
    {
     "name": "stdout",
     "output_type": "stream",
     "text": [
      "(10000, 68)\n"
     ]
    }
   ],
   "source": [

   ]
  },
  {
   "cell_type": "code",
   "execution_count": 35,
   "id": "533867a3-6628-46a4-84d2-04d77f6ca982",
   "metadata": {},
   "outputs": [],
   "source": [
    "# Tokenize Preferred Activities into separate columns\n",
    "preferred_activities_df = pd.DataFrame(visitors_df['Preferred Activities'].tolist(), index=visitors_df['User ID'])\n",
    "\n",
    "# Tokenize Bucket List Destinations into separate columns\n",
    "bucket_list_df = pd.DataFrame(visitors_df['Bucket list destinations Sri Lanka'].tolist(), index=visitors_df['User ID'])\n"
   ]
  },
  {
   "cell_type": "code",

   "metadata": {},
   "outputs": [],
   "source": [
    "# Binning ratings into categories\n",
    "places_df['rating_category'] = pd.cut(places_df['rating'], bins=[0, 3.5, 4.5, 5], labels=['low', 'medium', 'high'])"
   ]
  },
  {
   "cell_type": "code",
   "execution_count": 37,
   "id": "aba2809f-6723-4cc4-96c4-3e58d269f4c2",
   "metadata": {},
   "outputs": [],
   "source": [
    "# Remove very short reviews\n",
    "places_df = places_df[places_df['latest_reviews'].str.len() > 10]"
   ]
  },
  {
   "cell_type": "code",
   "execution_count": 38,
   "id": "abf0c2db-9f2b-46d0-8672-e9309ffbe930",
   "metadata": {},
   "outputs": [],
   "source": [
    "# Use one-hot encoding for the rating categories\n",
    "places_df = pd.get_dummies(places_df, columns=['rating_category'], drop_first=True)"
   ]
  },
  {
   "cell_type": "code",

   "metadata": {},
   "outputs": [],
   "source": [
    "def place_recommendation(user_id, visitors_df, places_df):\n",
    "    # Retrieve user's preferred activities\n",
    "    user_preferences = visitors_df.loc[visitors_df['User ID'] == user_id, 'Preferred Activities']\n",
    "    if user_preferences.empty:\n",
    "        return \"User not found\"\n",
    "    \n",
    "    # Directly use the preferred activities list\n",
    "    user_activities = user_preferences.values[0]\n",
    "    \n",
    "    # Collect place recommendations based on activity keywords in both names and descriptions\n",
    "    recommendations = []\n",
    "    for activity in user_activities:\n",
    "        escaped_activity = re.escape(activity.lower())\n",
    "        for index, row in places_df.iterrows():\n",
    "            place_name = row['name'].lower()\n",
    "            place_description = row.get('latest_reviews', '').lower()\n",
    "            if re.search(escaped_activity, place_name) or re.search(escaped_activity, place_description):\n",
    "                recommendations.append(row['name'])\n",
    "    \n",
    "    return recommendations if recommendations else \"No recommendations found\""
   ]
  },
  {
   "cell_type": "code",
   "execution_count": 40,
   "id": "9610641b-c36d-410d-867a-bece22ebe3b0",
   "metadata": {},
   "outputs": [],
   "source": [
    "#testing"
   ]
  },
  {
   "cell_type": "code",
   "execution_count": 49,
   "id": "f2ab568d",
   "metadata": {},
   "outputs": [
    {
     "name": "stdout",
     "output_type": "stream",
     "text": [
      "Recommendations for user 1: ['viharamahadevi park', 'anuradhapura', 'polonnaruwa']\n",
      "Recommendations for non-existent user: ['sinharaja forest reserve', 'belihuloya', 'batadombalena', 'seetha eliya', 'kanneliya national rain forest reserve |', 'knuckles forest reserve', 'piduruthalagala conservation forest', 'dhushan ella', 'hali-ela , sri lanka', 'neluwa doovili ella', 'pareiyan ella falls |', 'riverston', 'viharamahadevi park', 'kandy', 'polonnaruwa']\n",
      "Recommendations for user with no matching activities: ['maritime museum', 'kalpitiya', 'negombo', 'trincomalee', 'bolgoda lake', 'kalpitiya lagoon', 'ambalangoda', 'jaffna lagoon area', 'panakala lagoon', 'chundikulam bird sanctuary', 'batticaloa lagoon', 'mandathivu beach', 'kiranchi beach', '| | okanda beach', 'mahakarambewa wewa', 'katukeliyawa wewa', 'kadawatha wewa', 'maha oya hot water springs', 'madunagala hot water spring', 'uppuveli', 'port city colombo', 'negombo', 'trincomalee', 'elephant point beach', 'uppuveli beach']\n"
     ]
    }
   ],
   "source": [
    "# Test case for place_recommendation\n",
    "def test_place_recommendation():\n",
    "    # Test with an existing user\n",
    "    result_existing_user = place_recommendation(1, visitors_df, places_df)\n",
    "    print(f\"Recommendations for user 1: {result_existing_user}\")\n",
    "    \n",
    "    # Test with a non-existent user\n",
    "    result_non_existent_user = place_recommendation(999, visitors_df, places_df)\n",
    "    print(f\"Recommendations for non-existent user: {result_non_existent_user}\")\n",
    "    \n",
    "    # Test with a user having no matching activities\n",
    "    # (Let's assume user with ID 4 has preferences not matching any place)\n",
    "    result_no_match = place_recommendation(4, visitors_df, places_df)\n",
    "    print(f\"Recommendations for user with no matching activities: {result_no_match}\")\n",
    "\n",
    "# Run the test cases\n",
    "test_place_recommendation()\n"
   ]
  },
  {
   "cell_type": "code",
   "execution_count": null,

   "metadata": {},
   "outputs": [],
   "source": []
  }
 ],
 "metadata": {
  "kernelspec": {
   "display_name": "Python 3 (ipykernel)",
   "language": "python",
   "name": "python3"
  },
  "language_info": {
   "codemirror_mode": {
    "name": "ipython",
    "version": 3
   },
   "file_extension": ".py",
   "mimetype": "text/x-python",
   "name": "python",
   "nbconvert_exporter": "python",
   "pygments_lexer": "ipython3",
   "version": "3.11.7"
  }
 },
 "nbformat": 4,
 "nbformat_minor": 5
}
