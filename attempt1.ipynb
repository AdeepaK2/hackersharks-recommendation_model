{
 "cells": [
  {
   "cell_type": "code",
   "execution_count": 1,
   "id": "005c5170-a787-4397-9a50-53609eb8f9e0",
   "metadata": {},
   "outputs": [],
   "source": [
    "#imports"
   ]
  },
  {
   "cell_type": "code",
   "execution_count": 3,
   "id": "20d86fc9-568e-4354-ad12-c0eda843d465",
   "metadata": {},
   "outputs": [],
   "source": [
    "import pandas as pd\n",
    "import numpy as np\n",
    "from sklearn.feature_extraction.text import TfidfVectorizer\n",
    "from sklearn.metrics.pairwise import cosine_similarity\n",
    "import ast\n",
    "import re"
   ]
  },
  {
   "cell_type": "code",
   "execution_count": 3,
   "id": "e19d9dae-a008-47b0-937f-eb42becddadc",
   "metadata": {},
   "outputs": [],
   "source": [
    "#file input"
   ]
  },
  {
   "cell_type": "code",
   "execution_count": 4,
   "id": "f9b380a7-f4b7-4911-8097-4083877adad6",
   "metadata": {},
   "outputs": [
    {
     "name": "stdout",
     "output_type": "stream",
     "text": [
      "   User ID              Name                         Email  \\\n",
      "0        1    Jennifer Quinn    jennifer.quinn@example.com   \n",
      "1        2       Emily Perry       emily.perry@example.com   \n",
      "2        3  Danielle Mcbride  danielle.mcbride@example.com   \n",
      "3        4   Angelica Wilson   angelica.wilson@example.com   \n",
      "4        5     Laurie Powers     laurie.powers@example.com   \n",
      "\n",
      "                                Preferred Activities  \\\n",
      "0  ['cycling', 'historical monuments', 'village h...   \n",
      "1  ['butterfly watching', 'hot springs', 'wildlif...   \n",
      "2  ['sea cruises', 'themed parks', 'craft worksho...   \n",
      "3              ['fishing', 'hot springs', 'sailing']   \n",
      "4     ['history tours', 'sailing', 'literary tours']   \n",
      "\n",
      "                  Bucket list destinations Sri Lanka  \n",
      "0  ['Polonnaruwa', 'Hatton', 'Anuradhapura', 'Ell...  \n",
      "1  ['Madunagala Hot Water Spring', 'Wilpattu Nati...  \n",
      "2  ['Mirissa Beach', 'Negombo Lagoon', 'Batadomba...  \n",
      "3  ['Maha Oya Hot Water Springs', 'Colombo Port C...  \n",
      "4  ['Negombo Lagoon', 'Colombo Port City', 'Galle...  \n",
      "                             name       lat        lng  \\\n",
      "0                Arugam Bay Beach  6.840408  81.836848   \n",
      "1                   Mirissa Beach  5.944703  80.459161   \n",
      "2  Weligama Beach (surf and stay)  5.972486  80.435714   \n",
      "3                        Ahangama  5.973975  80.362159   \n",
      "4                 Hikkaduwa Beach  6.137727  80.099060   \n",
      "\n",
      "             formatted_address  rating  user_ratings_total  \\\n",
      "0  Arugam Bay Beach, Sri Lanka     4.8              1591.0   \n",
      "1           Mirissa, Sri Lanka     4.6              1748.0   \n",
      "2          Weligama, Sri Lanka     4.4               325.0   \n",
      "3          Ahangama, Sri Lanka     NaN                 NaN   \n",
      "4   Hikkaduwa Beach, Sri Lanka     4.7              1438.0   \n",
      "\n",
      "                                      latest_reviews  \n",
      "0  ['Arugam Bay Beach is a surfer's paradise! I s...  \n",
      "1  ['Mirissa Beach is truly a gem on Sri LankaÃ¢Â...  \n",
      "2  ['Weligama Beach is a fantastic spot for both ...  \n",
      "3  ['Ahangama was a bit disappointing for me as a...  \n",
      "4  ['Hikkaduwa Beach is a delightful escape for s...  \n"
     ]
    }
   ],
   "source": [
    "visitors_df = pd.read_excel('Visitors Preference Dataset.xlsx')\n",
    "places_df = pd.read_excel('Places Dataset.xlsx')\n",
    "\n",
    "# Check the first few rows of the data\n",
    "print(visitors_df.head())\n",
    "print(places_df.head())"
   ]
  },
  {
   "cell_type": "code",
   "execution_count": 6,
   "id": "d607a9e1-1b9c-4bbf-8a40-eeed5f35bc90",
   "metadata": {},
   "outputs": [],
   "source": [
    "# Data Preprocessing"
   ]
  },
  {
   "cell_type": "code",
   "execution_count": 5,
   "id": "e21ea266-96b3-49c6-ad3d-e7a0b1be8959",
   "metadata": {},
   "outputs": [
    {
     "name": "stdout",
     "output_type": "stream",
     "text": [
      "Missing values in visitors dataset:\n",
      " User ID                               0\n",
      "Name                                  0\n",
      "Email                                 0\n",
      "Preferred Activities                  0\n",
      "Bucket list destinations Sri Lanka    0\n",
      "dtype: int64\n",
      "Missing values in places dataset:\n",
      " name                   0\n",
      "lat                    1\n",
      "lng                    1\n",
      "formatted_address      0\n",
      "rating                56\n",
      "user_ratings_total    56\n",
      "latest_reviews         0\n",
      "dtype: int64\n"
     ]
    }
   ],
   "source": [
    "# Check for missing values\n",
    "print(\"Missing values in visitors dataset:\\n\", visitors_df.isnull().sum())\n",
    "print(\"Missing values in places dataset:\\n\", places_df.isnull().sum())"
   ]
  },
  {
   "cell_type": "code",
   "execution_count": 9,
   "id": "90c2a5ae-b401-4dd9-b2c0-69eeb9cb6896",
   "metadata": {},
   "outputs": [],
   "source": [
    "#missing values impute"
   ]
  },
  {
   "cell_type": "code",
   "execution_count": 8,
   "id": "d09df270-5327-48de-b995-a4d84c3a62b7",
   "metadata": {},
   "outputs": [
    {
     "name": "stdout",
     "output_type": "stream",
     "text": [
      "Missing values after handling:\n",
      " name                   0\n",
      "lat                    1\n",
      "lng                    1\n",
      "formatted_address      0\n",
      "rating                 0\n",
      "user_ratings_total    56\n",
      "latest_reviews         0\n",
      "dtype: int64\n"
     ]
    }
   ],
   "source": [
    "places_df['rating'].fillna(places_df['rating'].mean(), inplace=True)\n",
    "print(\"Missing values after handling:\\n\", places_df.isnull().sum())"
   ]
  },
  {
   "cell_type": "code",
   "execution_count": 6,
   "id": "f5c03741-6254-418f-99a4-f68971c448f7",
   "metadata": {},
   "outputs": [],
   "source": [
    "# Convert list-like string columns back to list"
   ]
  },
  {
   "cell_type": "code",
   "execution_count": 9,
   "id": "35083618-15c5-4a06-99f7-e6060c8358d6",
   "metadata": {},
   "outputs": [],
   "source": [
    "visitors_df['Preferred Activities'] = visitors_df['Preferred Activities'].apply(ast.literal_eval)\n",
    "visitors_df['Bucket list destinations Sri Lanka'] = visitors_df['Bucket list destinations Sri Lanka'].apply(ast.literal_eval)"
   ]
  },
  {
   "cell_type": "code",
   "execution_count": 7,
   "id": "1638b7e6-1cce-4123-8b05-b14f8a6d90a9",
   "metadata": {},
   "outputs": [],
   "source": [
    "# Lowercase and clean text for preferred activities  bucket list destinations"
   ]
  },
  {
   "cell_type": "code",
   "execution_count": 10,
   "id": "9c08ee61-3bae-4be3-9aad-60454f971793",
   "metadata": {},
   "outputs": [],
   "source": [
    "visitors_df['Preferred Activities'] = visitors_df['Preferred Activities'].apply(lambda x: [item.lower() for item in x])\n",
    "visitors_df['Bucket list destinations Sri Lanka'] = visitors_df['Bucket list destinations Sri Lanka'].apply(lambda x: [item.lower() for item in x])"
   ]
  },
  {
   "cell_type": "code",
   "execution_count": 9,
   "id": "5ec5fb69-009c-4c38-b799-40e5814be248",
   "metadata": {},
   "outputs": [],
   "source": [
    "# Vectorization using TF-IDF for 'Preferred Activities' column"
   ]
  },
  {
   "cell_type": "code",
   "execution_count": 14,
   "id": "104e67ed-66b7-40f3-ae50-d549e539de31",
   "metadata": {},
   "outputs": [],
   "source": [
    "tfidf = TfidfVectorizer(tokenizer=lambda x: x, lowercase=False)\n",
    "tfidf_matrix = tfidf.fit_transform(visitors_df['Preferred Activities'])"
   ]
  },
  {
   "cell_type": "code",
   "execution_count": 15,
   "id": "d2994a4a-5860-42e0-a263-febf836c1376",
   "metadata": {},
   "outputs": [
    {
     "name": "stdout",
     "output_type": "stream",
     "text": [
      "(10000, 68)\n"
     ]
    }
   ],
   "source": [
    "print(tfidf_matrix.shape)"
   ]
  },
  {
   "cell_type": "code",
   "execution_count": 20,
   "id": "6228ded1-00db-487e-87c7-2ee5c114a59f",
   "metadata": {},
   "outputs": [],
   "source": [
    "#recommendation model"
   ]
  },
  {
   "cell_type": "code",
   "execution_count": 12,
   "id": "b9bad84d-9999-491e-9a46-dc323486b2e2",
   "metadata": {},
   "outputs": [],
   "source": [
    "def get_recommendations(place_name, cosine_sim=cosine_sim):\n",
    "    idx = places_df[places_df['name'] == place_name].index[0]\n",
    "    sim_scores = list(enumerate(cosine_sim[idx]))\n",
    "    sim_scores = sorted(sim_scores, key=lambda x: x[1], reverse=True)\n",
    "    sim_scores = sim_scores[1:6]  # Top 5 similar places\n",
    "    place_indices = [i[0] for i in sim_scores]\n",
    "    return places_df['name'].iloc[place_indices]"
   ]
  },
  {
   "cell_type": "code",
   "execution_count": 22,
   "id": "126094d1-680b-4469-a733-37b6befe22d4",
   "metadata": {},
   "outputs": [
    {
     "name": "stdout",
     "output_type": "stream",
     "text": [
      "308                   Dutch Bay Beach\n",
      "36                   Hiriketiya Beach\n",
      "2      Weligama Beach (surf and stay)\n",
      "410                   Unawatuna Beach\n",
      "1                       Mirissa Beach\n",
      "Name: name, dtype: object\n"
     ]
    }
   ],
   "source": [
    "print(get_recommendations(\"Arugam Bay Beach\"))"
   ]
  },
  {
   "cell_type": "code",
   "execution_count": 23,
   "id": "281f33f5-4a95-46f7-862f-a893a6c797d1",
   "metadata": {},
   "outputs": [],
   "source": [
    "#user-specific recommendations"
   ]
  },
  {
   "cell_type": "code",
   "execution_count": 13,
   "id": "4a1b4f6d-7bfa-4cff-9c97-86825e1d5450",
   "metadata": {},
   "outputs": [],
   "source": [
    "def get_user_specific_recommendations(user_id):\n",
    "    user = visitors_df[visitors_df['UserID'] == user_id].iloc[0]\n",
    "    preferred_activities = safe_eval(user['Preferred Activities'])\n",
    "    \n",
    "    # Create a simple scoring system\n",
    "    places_df['score'] = places_df['latest_reviews'].apply(lambda x: sum(1 for review in x if any(activity.lower() in str(review).lower() for activity in preferred_activities)))\n",
    "    \n",
    "    # Sort places by score and return top 5\n",
    "    return places_df.sort_values('score', ascending=False)['name'].head()"
   ]
  },
  {
   "cell_type": "code",
   "execution_count": 27,
   "id": "709b4ec6-7591-4df3-ba4c-4a642fb3c300",
   "metadata": {},
   "outputs": [],
   "source": [
    "#further"
   ]
  },
  {
   "cell_type": "code",
   "execution_count": null,
   "id": "884cf18f-b89c-491a-b310-0e6a8ee3b241",
   "metadata": {},
   "outputs": [],
   "source": []
  }
 ],
 "metadata": {
  "kernelspec": {
   "display_name": "Python 3 (ipykernel)",
   "language": "python",
   "name": "python3"
  },
  "language_info": {
   "codemirror_mode": {
    "name": "ipython",
    "version": 3
   },
   "file_extension": ".py",
   "mimetype": "text/x-python",
   "name": "python",
   "nbconvert_exporter": "python",
   "pygments_lexer": "ipython3",
   "version": "3.11.7"
  }
 },
 "nbformat": 4,
 "nbformat_minor": 5
}
