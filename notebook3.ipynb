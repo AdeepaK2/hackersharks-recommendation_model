{
 "cells": [
  {
   "cell_type": "code",
   "execution_count": 1,
   "id": "d3ac67c6",
   "metadata": {},
   "outputs": [
    {
     "name": "stdout",
     "output_type": "stream",
     "text": [
      "Requirement already satisfied: pandas in c:\\users\\pt\\anaconda3\\lib\\site-packages (2.0.3)\n",
      "Requirement already satisfied: scikit-learn in c:\\users\\pt\\anaconda3\\lib\\site-packages (1.3.0)\n",
      "Requirement already satisfied: numpy in c:\\users\\pt\\anaconda3\\lib\\site-packages (1.24.3)\n",
      "Requirement already satisfied: matplotlib in c:\\users\\pt\\anaconda3\\lib\\site-packages (3.7.2)\n",
      "Requirement already satisfied: seaborn in c:\\users\\pt\\anaconda3\\lib\\site-packages (0.12.2)\n",
      "Requirement already satisfied: python-dateutil>=2.8.2 in c:\\users\\pt\\anaconda3\\lib\\site-packages (from pandas) (2.8.2)\n",
      "Requirement already satisfied: pytz>=2020.1 in c:\\users\\pt\\anaconda3\\lib\\site-packages (from pandas) (2023.3.post1)\n",
      "Requirement already satisfied: tzdata>=2022.1 in c:\\users\\pt\\anaconda3\\lib\\site-packages (from pandas) (2023.3)\n",
      "Requirement already satisfied: scipy>=1.5.0 in c:\\users\\pt\\anaconda3\\lib\\site-packages (from scikit-learn) (1.11.1)\n",
      "Requirement already satisfied: joblib>=1.1.1 in c:\\users\\pt\\anaconda3\\lib\\site-packages (from scikit-learn) (1.2.0)\n",
      "Requirement already satisfied: threadpoolctl>=2.0.0 in c:\\users\\pt\\anaconda3\\lib\\site-packages (from scikit-learn) (2.2.0)\n",
      "Requirement already satisfied: contourpy>=1.0.1 in c:\\users\\pt\\anaconda3\\lib\\site-packages (from matplotlib) (1.0.5)\n",
      "Requirement already satisfied: cycler>=0.10 in c:\\users\\pt\\anaconda3\\lib\\site-packages (from matplotlib) (0.11.0)\n",
      "Requirement already satisfied: fonttools>=4.22.0 in c:\\users\\pt\\anaconda3\\lib\\site-packages (from matplotlib) (4.25.0)\n",
      "Requirement already satisfied: kiwisolver>=1.0.1 in c:\\users\\pt\\anaconda3\\lib\\site-packages (from matplotlib) (1.4.4)\n",
      "Requirement already satisfied: packaging>=20.0 in c:\\users\\pt\\anaconda3\\lib\\site-packages (from matplotlib) (23.1)\n",
      "Requirement already satisfied: pillow>=6.2.0 in c:\\users\\pt\\anaconda3\\lib\\site-packages (from matplotlib) (10.0.1)\n",
      "Requirement already satisfied: pyparsing<3.1,>=2.3.1 in c:\\users\\pt\\anaconda3\\lib\\site-packages (from matplotlib) (3.0.9)\n",
      "Requirement already satisfied: six>=1.5 in c:\\users\\pt\\anaconda3\\lib\\site-packages (from python-dateutil>=2.8.2->pandas) (1.16.0)\n"
     ]
    }
   ],
   "source": [
    "!pip install pandas scikit-learn numpy matplotlib seaborn"
   ]
  },
  {
   "cell_type": "code",
   "execution_count": 2,
   "id": "52513c61",
   "metadata": {},
   "outputs": [],
   "source": [
    "import pandas as pd"
   ]
  },
  {
   "cell_type": "code",
   "execution_count": 3,
   "id": "8a93cc55",
   "metadata": {},
   "outputs": [],
   "source": [
    "# Load datasets\n",
    "places_df = pd.read_excel(\"D:/Projects/rootcode_datathon/Places Dataset.xlsx\")\n",
    "visitors_df = pd.read_excel(\"D:/Projects/rootcode_datathon/Visitors Preference Dataset.xlsx\")"
   ]
  },
  {
   "cell_type": "code",
   "execution_count": 4,
   "id": "330907b0",
   "metadata": {},
   "outputs": [
    {
     "name": "stdout",
     "output_type": "stream",
     "text": [
      "Places Dataset:\n",
      "                             name       lat        lng  \\\n",
      "0                Arugam Bay Beach  6.840408  81.836848   \n",
      "1                   Mirissa Beach  5.944703  80.459161   \n",
      "2  Weligama Beach (surf and stay)  5.972486  80.435714   \n",
      "3                        Ahangama  5.973975  80.362159   \n",
      "4                 Hikkaduwa Beach  6.137727  80.099060   \n",
      "\n",
      "             formatted_address  rating  user_ratings_total  \\\n",
      "0  Arugam Bay Beach, Sri Lanka     4.8              1591.0   \n",
      "1           Mirissa, Sri Lanka     4.6              1748.0   \n",
      "2          Weligama, Sri Lanka     4.4               325.0   \n",
      "3          Ahangama, Sri Lanka     NaN                 NaN   \n",
      "4   Hikkaduwa Beach, Sri Lanka     4.7              1438.0   \n",
      "\n",
      "                                      latest_reviews  \n",
      "0  ['Arugam Bay Beach is a surfer's paradise! I s...  \n",
      "1  ['Mirissa Beach is truly a gem on Sri LankaÃ¢Â...  \n",
      "2  ['Weligama Beach is a fantastic spot for both ...  \n",
      "3  ['Ahangama was a bit disappointing for me as a...  \n",
      "4  ['Hikkaduwa Beach is a delightful escape for s...  \n",
      "Visitors Dataset:\n",
      "   User ID              Name                         Email  \\\n",
      "0        1    Jennifer Quinn    jennifer.quinn@example.com   \n",
      "1        2       Emily Perry       emily.perry@example.com   \n",
      "2        3  Danielle Mcbride  danielle.mcbride@example.com   \n",
      "3        4   Angelica Wilson   angelica.wilson@example.com   \n",
      "4        5     Laurie Powers     laurie.powers@example.com   \n",
      "\n",
      "                                Preferred Activities  \\\n",
      "0  ['cycling', 'historical monuments', 'village h...   \n",
      "1  ['butterfly watching', 'hot springs', 'wildlif...   \n",
      "2  ['sea cruises', 'themed parks', 'craft worksho...   \n",
      "3              ['fishing', 'hot springs', 'sailing']   \n",
      "4     ['history tours', 'sailing', 'literary tours']   \n",
      "\n",
      "                  Bucket list destinations Sri Lanka  \n",
      "0  ['Polonnaruwa', 'Hatton', 'Anuradhapura', 'Ell...  \n",
      "1  ['Madunagala Hot Water Spring', 'Wilpattu Nati...  \n",
      "2  ['Mirissa Beach', 'Negombo Lagoon', 'Batadomba...  \n",
      "3  ['Maha Oya Hot Water Springs', 'Colombo Port C...  \n",
      "4  ['Negombo Lagoon', 'Colombo Port City', 'Galle...  \n"
     ]
    }
   ],
   "source": [
    "# Display the first few rows of the places dataset\n",
    "print(\"Places Dataset:\")\n",
    "print(places_df.head())\n",
    "\n",
    "# Display the first few rows of the visitors dataset\n",
    "print(\"Visitors Dataset:\")\n",
    "print(visitors_df.head())"
   ]
  },
  {
   "cell_type": "code",
   "execution_count": 5,
   "id": "6d53fba9",
   "metadata": {},
   "outputs": [
    {
     "name": "stdout",
     "output_type": "stream",
     "text": [
      "Places Dataset Missing Values:\n",
      "name                   0\n",
      "lat                    1\n",
      "lng                    1\n",
      "formatted_address      0\n",
      "rating                56\n",
      "user_ratings_total    56\n",
      "latest_reviews         0\n",
      "dtype: int64\n",
      "Visitors Dataset Missing Values:\n",
      "User ID                               0\n",
      "Name                                  0\n",
      "Email                                 0\n",
      "Preferred Activities                  0\n",
      "Bucket list destinations Sri Lanka    0\n",
      "dtype: int64\n"
     ]
    }
   ],
   "source": [
    "# Check for missing values in the places dataset\n",
    "print(\"Places Dataset Missing Values:\")\n",
    "print(places_df.isnull().sum())\n",
    "\n",
    "# Check for missing values in the visitors dataset\n",
    "print(\"Visitors Dataset Missing Values:\")\n",
    "print(visitors_df.isnull().sum())"
   ]
  },
  {
   "cell_type": "code",
   "execution_count": 6,
   "id": "80da48f9",
   "metadata": {},
   "outputs": [
    {
     "name": "stdout",
     "output_type": "stream",
     "text": [
      "Places Dataset Data Types:\n",
      "name                   object\n",
      "lat                   float64\n",
      "lng                   float64\n",
      "formatted_address      object\n",
      "rating                float64\n",
      "user_ratings_total    float64\n",
      "latest_reviews         object\n",
      "dtype: object\n",
      "Visitors Dataset Data Types:\n",
      "User ID                                int64\n",
      "Name                                  object\n",
      "Email                                 object\n",
      "Preferred Activities                  object\n",
      "Bucket list destinations Sri Lanka    object\n",
      "dtype: object\n"
     ]
    }
   ],
   "source": [
    "# Check data types of columns\n",
    "print(\"Places Dataset Data Types:\")\n",
    "print(places_df.dtypes)\n",
    "\n",
    "print(\"Visitors Dataset Data Types:\")\n",
    "print(visitors_df.dtypes)"
   ]
  },
  {
   "cell_type": "code",
   "execution_count": 7,
   "id": "812029b4",
   "metadata": {},
   "outputs": [],
   "source": [
    "# Fill missing values in the rating column with the average rating\n",
    "avg_rating = places_df['rating'].mean()\n",
    "places_df['rating'].fillna(avg_rating, inplace=True)\n",
    "\n",
    "# Fill missing values in the user_ratings_total column with 0\n",
    "places_df['user_ratings_total'].fillna(0, inplace=True)"
   ]
  },
  {
   "cell_type": "code",
   "execution_count": 8,
   "id": "d370f2df",
   "metadata": {},
   "outputs": [],
   "source": [
    "# Drop rows with any missing values in the visitors dataset\n",
    "visitors_df.dropna(inplace=True)"
   ]
  },
  {
   "cell_type": "code",
   "execution_count": 9,
   "id": "119d684f",
   "metadata": {},
   "outputs": [],
   "source": [
    "import ast\n",
    "\n",
    "# Convert string representations of lists to actual lists\n",
    "visitors_df['Preferred Activities'] = visitors_df['Preferred Activities'].apply(lambda x: ast.literal_eval(x))\n",
    "visitors_df['Bucket list destinations Sri Lanka'] = visitors_df['Bucket list destinations Sri Lanka'].apply(lambda x: ast.literal_eval(x))"
   ]
  },
  {
   "cell_type": "code",
   "execution_count": 10,
   "id": "3bc23290",
   "metadata": {},
   "outputs": [],
   "source": [
    "# Select relevant features from places_df\n",
    "places_features = places_df[['name', 'lat', 'lng', 'rating', 'user_ratings_total']]"
   ]
  },
  {
   "cell_type": "code",
   "execution_count": 11,
   "id": "830a13bd",
   "metadata": {},
   "outputs": [],
   "source": [
    "# Select relevant features from visitors_df\n",
    "visitors_features = visitors_df[['Preferred Activities', 'Bucket list destinations Sri Lanka']]"
   ]
  },
  {
   "cell_type": "code",
   "execution_count": 12,
   "id": "f56a3489",
   "metadata": {},
   "outputs": [],
   "source": [
    "from sklearn.preprocessing import MultiLabelBinarizer\n",
    "\n",
    "# Initialize MultiLabelBinarizer\n",
    "mlb_activities = MultiLabelBinarizer()\n",
    "mlb_destinations = MultiLabelBinarizer()\n",
    "\n",
    "# Fit and transform the preferred activities\n",
    "activities_encoded = mlb_activities.fit_transform(visitors_features['Preferred Activities'])\n",
    "\n",
    "# Fit and transform the bucket list destinations\n",
    "destinations_encoded = mlb_destinations.fit_transform(visitors_features['Bucket list destinations Sri Lanka'])\n",
    "\n",
    "# Convert encoded arrays to DataFrames\n",
    "activities_df = pd.DataFrame(activities_encoded, columns=mlb_activities.classes_)\n",
    "destinations_df = pd.DataFrame(destinations_encoded, columns=mlb_destinations.classes_)"
   ]
  },
  {
   "cell_type": "code",
   "execution_count": 13,
   "id": "815a2441",
   "metadata": {},
   "outputs": [],
   "source": [
    "# Concatenate original visitors features with encoded features\n",
    "visitors_prepared_df = pd.concat([visitors_df[['User ID']], activities_df, destinations_df], axis=1)"
   ]
  },
  {
   "cell_type": "code",
   "execution_count": 14,
   "id": "ac507873",
   "metadata": {},
   "outputs": [],
   "source": [
    "from sklearn.preprocessing import MinMaxScaler\n",
    "\n",
    "# Initialize MinMaxScaler\n",
    "scaler = MinMaxScaler()\n",
    "\n",
    "# Normalize rating and user_ratings_total columns\n",
    "places_normalized = places_features.copy()\n",
    "places_normalized[['rating', 'user_ratings_total']] = scaler.fit_transform(places_normalized[['rating', 'user_ratings_total']])"
   ]
  },
  {
   "cell_type": "code",
   "execution_count": 15,
   "id": "4bcb75e4",
   "metadata": {},
   "outputs": [],
   "source": [
    "import numpy as np\n",
    "\n",
    "# Assuming visitors_prepared_df and places_normalized are already prepared\n",
    "\n",
    "# Create a matrix where rows are users and columns are places\n",
    "def create_user_item_matrix(visitors_df, places_df):\n",
    "    # Initialize matrix with zeros\n",
    "    matrix = np.zeros((len(visitors_df), len(places_df)))\n",
    "    \n",
    "    for i, user in visitors_df.iterrows():\n",
    "        user_id = user['User ID']\n",
    "        preferred_destinations = user['Bucket list destinations Sri Lanka']\n",
    "        \n",
    "        for j, place in places_df.iterrows():\n",
    "            place_name = place['name']\n",
    "            \n",
    "            if place_name in preferred_destinations:\n",
    "                matrix[i, j] = 1  # Mark as preferred\n",
    "    \n",
    "    return matrix\n",
    "\n",
    "user_item_matrix = create_user_item_matrix(visitors_df, places_df)"
   ]
  },
  {
   "cell_type": "code",
   "execution_count": 16,
   "id": "2569031f",
   "metadata": {},
   "outputs": [],
   "source": [
    "from sklearn.metrics.pairwise import cosine_similarity\n",
    "\n",
    "# Compute similarity matrix between places\n",
    "similarity_matrix = cosine_similarity(places_normalized[['rating', 'user_ratings_total']])\n",
    "\n",
    "# Define a function to recommend places for a given user\n",
    "def recommend_places(user_index, user_item_matrix, similarity_matrix, top_n=5):\n",
    "    # Get the user's ratings/preferences\n",
    "    user_preferences = user_item_matrix[user_index]\n",
    "    \n",
    "    # Compute the weighted sum of similarities based on user preferences\n",
    "    scores = similarity_matrix.dot(user_preferences)\n",
    "    \n",
    "    # Get indices of top_n places\n",
    "    top_indices = np.argsort(scores)[::-1][:top_n]\n",
    "    \n",
    "    return top_indices\n",
    "\n",
    "# Example: Recommend places for the first user\n",
    "recommended_indices = recommend_places(0, user_item_matrix, similarity_matrix)\n",
    "recommended_places = places_df.iloc[recommended_indices]"
   ]
  },
  {
   "cell_type": "code",
   "execution_count": 17,
   "id": "8f6d1235",
   "metadata": {},
   "outputs": [],
   "source": [
    "# Define a simple relevance metric (precision at k)\n",
    "def evaluate_relevance(user_index, recommended_indices, top_n=5):\n",
    "    user_preferences = set(visitors_df.loc[user_index, 'Bucket list destinations Sri Lanka'])\n",
    "    recommended_places = set(places_df.loc[recommended_indices, 'name'])\n",
    "    relevant_items = len(user_preferences.intersection(recommended_places))\n",
    "    return relevant_items / top_n\n",
    "\n",
    "# Evaluate relevance for the first user\n",
    "relevance_score = evaluate_relevance(0, recommended_indices)"
   ]
  },
  {
   "cell_type": "code",
   "execution_count": 18,
   "id": "d0378f5d",
   "metadata": {},
   "outputs": [
    {
     "data": {
      "text/plain": [
       "['user_item_matrix.pkl']"
      ]
     },
     "execution_count": 18,
     "metadata": {},
     "output_type": "execute_result"
    }
   ],
   "source": [
    "import joblib\n",
    "\n",
    "# Save the similarity matrix and user-item matrix\n",
    "joblib.dump(similarity_matrix, 'similarity_matrix.pkl')\n",
    "joblib.dump(user_item_matrix, 'user_item_matrix.pkl')"
   ]
  },
  {
   "cell_type": "code",
   "execution_count": 19,
   "id": "41d7f77c",
   "metadata": {},
   "outputs": [
    {
     "ename": "SyntaxError",
     "evalue": "invalid syntax (2678985230.py, line 1)",
     "output_type": "error",
     "traceback": [
      "\u001b[1;36m  Cell \u001b[1;32mIn[19], line 1\u001b[1;36m\u001b[0m\n\u001b[1;33m    mkdir TeamName_Datathon\u001b[0m\n\u001b[1;37m          ^\u001b[0m\n\u001b[1;31mSyntaxError\u001b[0m\u001b[1;31m:\u001b[0m invalid syntax\n"
     ]
    }
   ],
   "source": [
    "mkdir TeamName_Datathon\n",
    "cp similarity_matrix.pkl user_item_matrix.pkl TeamName_Datathon/\n",
    "cp *.ipynb TeamName_Datathon/  # Copy all Jupyter notebooks"
   ]
  },
  {
   "cell_type": "code",
   "execution_count": 20,
   "id": "c036a46c",
   "metadata": {},
   "outputs": [],
   "source": [
    "!mkdir TeamName_Datathon"
   ]
  },
  {
   "cell_type": "code",
   "execution_count": 21,
   "id": "10af36ad",
   "metadata": {},
   "outputs": [
    {
     "name": "stderr",
     "output_type": "stream",
     "text": [
      "'cp' is not recognized as an internal or external command,\n",
      "operable program or batch file.\n",
      "'cp' is not recognized as an internal or external command,\n",
      "operable program or batch file.\n"
     ]
    }
   ],
   "source": [
    "!cp similarity_matrix.pkl user_item_matrix.pkl TeamName_Datathon/\n",
    "!cp *.ipynb TeamName_Datathon/"
   ]
  },
  {
   "cell_type": "code",
   "execution_count": 22,
   "id": "de05dad5",
   "metadata": {},
   "outputs": [
    {
     "data": {
      "text/plain": [
       "['user_item_matrix.pkl']"
      ]
     },
     "execution_count": 22,
     "metadata": {},
     "output_type": "execute_result"
    }
   ],
   "source": [
    "import joblib\n",
    "\n",
    "# Save the similarity matrix and user-item matrix\n",
    "joblib.dump(similarity_matrix, 'similarity_matrix.pkl')\n",
    "joblib.dump(user_item_matrix, 'user_item_matrix.pkl')"
   ]
  },
  {
   "cell_type": "code",
   "execution_count": 1,
   "id": "33373a59",
   "metadata": {},
   "outputs": [
    {
     "name": "stderr",
     "output_type": "stream",
     "text": [
      "A subdirectory or file TeamName_Datathon already exists.\n"
     ]
    },
    {
     "name": "stdout",
     "output_type": "stream",
     "text": [
      "The syntax of the command is incorrect.\n",
      "The syntax of the command is incorrect.\n"
     ]
    }
   ],
   "source": [
    "!mkdir TeamName_Datathon\n",
    "!copy similarity_matrix.pkl user_item_matrix.pkl TeamName_Datathon/\n",
    "!copy *.ipynb TeamName_Datathon/"
   ]
  },
  {
   "cell_type": "code",
   "execution_count": null,
   "id": "7c3d24d2",
   "metadata": {},
   "outputs": [],
   "source": []
  },
  {
   "cell_type": "code",
   "execution_count": 2,
   "id": "f3c1125d",
   "metadata": {},
   "outputs": [
    {
     "name": "stderr",
     "output_type": "stream",
     "text": [
      "A subdirectory or file TeamName_Datathon already exists.\n",
      "'cp' is not recognized as an internal or external command,\n",
      "operable program or batch file.\n",
      "'cp' is not recognized as an internal or external command,\n",
      "operable program or batch file.\n"
     ]
    }
   ],
   "source": [
    "!mkdir TeamName_Datathon\n",
    "!cp similarity_matrix.pkl user_item_matrix.pkl TeamName_Datathon/\n",
    "!cp *.ipynb TeamName_Datathon/"
   ]
  },
  {
   "cell_type": "code",
   "execution_count": 3,
   "id": "508492bc",
   "metadata": {},
   "outputs": [],
   "source": [
    "pkl_files = [\"similarity_matrix.pkl\"]  # or [\"user_item_matrix.pkl\"]"
   ]
  },
  {
   "cell_type": "code",
   "execution_count": 4,
   "id": "c5dab380",
   "metadata": {},
   "outputs": [
    {
     "data": {
      "text/html": [
       "Click to download similarity_matrix.pkl: <a href='similarity_matrix.pkl' target='_blank'>similarity_matrix.pkl</a><br>"
      ],
      "text/plain": [
       "C:\\Users\\PT\\similarity_matrix.pkl"
      ]
     },
     "metadata": {},
     "output_type": "display_data"
    },
    {
     "data": {
      "text/html": [
       "Click to download user_item_matrix.pkl: <a href='user_item_matrix.pkl' target='_blank'>user_item_matrix.pkl</a><br>"
      ],
      "text/plain": [
       "C:\\Users\\PT\\user_item_matrix.pkl"
      ]
     },
     "metadata": {},
     "output_type": "display_data"
    }
   ],
   "source": [
    "from IPython.display import FileLink, display\n",
    "\n",
    "# List of .pkl files to download\n",
    "pkl_files = [\"similarity_matrix.pkl\", \"user_item_matrix.pkl\"]\n",
    "\n",
    "# Create download links for each file\n",
    "for file in pkl_files:\n",
    "    display(FileLink(file, result_html_prefix=f\"Click to download {file}: \"))"
   ]
  },
  {
   "cell_type": "code",
   "execution_count": null,
   "id": "e8c099d6",
   "metadata": {},
   "outputs": [],
   "source": []
  }
 ],
 "metadata": {
  "kernelspec": {
   "display_name": "Python 3 (ipykernel)",
   "language": "python",
   "name": "python3"
  },
  "language_info": {
   "codemirror_mode": {
    "name": "ipython",
    "version": 3
   },
   "file_extension": ".py",
   "mimetype": "text/x-python",
   "name": "python",
   "nbconvert_exporter": "python",
   "pygments_lexer": "ipython3",
   "version": "3.11.5"
  }
 },
 "nbformat": 4,
 "nbformat_minor": 5
}
